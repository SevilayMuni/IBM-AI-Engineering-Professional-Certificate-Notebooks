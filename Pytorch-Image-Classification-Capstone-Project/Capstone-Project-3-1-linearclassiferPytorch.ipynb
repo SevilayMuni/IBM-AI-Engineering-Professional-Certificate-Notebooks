{
 "cells": [
  {
   "cell_type": "markdown",
   "metadata": {},
   "source": [
    "<img src=\"https://cf-courses-data.s3.us.cloud-object-storage.appdomain.cloud/IBMDeveloperSkillsNetwork-DL0321EN-SkillsNetwork/image/IDSN-logo.png\" width=\"200\" alt=\"cognitiveclass.ai logo\">\n"
   ]
  },
  {
   "cell_type": "markdown",
   "metadata": {},
   "source": [
    "<h1>Linear  Classifier with PyTorch </h1>\n"
   ]
  },
  {
   "cell_type": "markdown",
   "metadata": {},
   "source": [
    "<p>Before using deep neural network to solve the classification problem, we will try and solve the problem with the simplest method -- linear classifier. We will utilize the dataset object from the previous notebook.\n",
    "After building and training linear classifier, we will determine linear classifier's maximum accuracy achieved on the validation data for 5 epochs. </p>"
   ]
  },
  {
   "cell_type": "markdown",
   "metadata": {},
   "source": [
    "<h2>Table of Contents</h2>\n"
   ]
  },
  {
   "cell_type": "markdown",
   "metadata": {},
   "source": [
    "1. Imports and Auxiliary Functions\n",
    "2. Download Data\n",
    "3. Dataset Class\n",
    "4. Transform Object and Dataset Object\n",
    "5. Question\n",
    "\n",
    "<hr>"
   ]
  },
  {
   "cell_type": "markdown",
   "metadata": {},
   "source": [
    "<h2 id=\"auxiliary\">Imports and Auxiliary Functions</h2>\n"
   ]
  },
  {
   "cell_type": "code",
   "execution_count": 1,
   "metadata": {
    "tags": []
   },
   "outputs": [],
   "source": [
    "# Import libraries\n",
    "import matplotlib.pyplot as plt\n",
    "import numpy as np\n",
    "from PIL import Image\n",
    "\n",
    "import os\n",
    "import glob\n",
    "\n",
    "import torch\n",
    "from torch import optim\n",
    "import torch.nn as nn\n",
    "from torch.utils.data import Dataset, DataLoader\n",
    "import torchvision.transforms as transforms\n",
    "\n",
    "import skillsnetwork"
   ]
  },
  {
   "cell_type": "markdown",
   "metadata": {},
   "source": [
    "<h2 id=\"download_data\">Download Data</h2>\n"
   ]
  },
  {
   "cell_type": "markdown",
   "metadata": {},
   "source": [
    "In this section, you are going to download the data from IBM object storage using **skillsnetwork.prepare** command. <b>skillsnetwork.prepare</b> is a command that's used to download a zip file, unzip it and store it in a specified directory. Locally we store the data in the directory  **/resources/data**. \n"
   ]
  },
  {
   "cell_type": "code",
   "execution_count": 2,
   "metadata": {
    "tags": []
   },
   "outputs": [
    {
     "data": {
      "application/vnd.jupyter.widget-view+json": {
       "model_id": "bda6a6dcdf2748968d0d237390751384",
       "version_major": 2,
       "version_minor": 0
      },
      "text/plain": [
       "Downloading concrete_crack_images_for_classification.zip:   0%|          | 0/245259777 [00:00<?, ?it/s]"
      ]
     },
     "metadata": {},
     "output_type": "display_data"
    },
    {
     "data": {
      "application/vnd.jupyter.widget-view+json": {
       "model_id": "fd7ab3b46a21453391522f841730d38b",
       "version_major": 2,
       "version_minor": 0
      },
      "text/plain": [
       "  0%|          | 0/40000 [00:00<?, ?it/s]"
      ]
     },
     "metadata": {},
     "output_type": "display_data"
    },
    {
     "name": "stdout",
     "output_type": "stream",
     "text": [
      "Saved to '../../../data'\n"
     ]
    }
   ],
   "source": [
    "# Download the file that contains the images\n",
    "await skillsnetwork.prepare(\"https://s3-api.us-geo.objectstorage.softlayer.net/cf-courses-data/CognitiveClass/DL0321EN/data/images/concrete_crack_images_for_classification.zip\",\n",
    "                            path = \"/resources/data\", overwrite = True)"
   ]
  },
  {
   "cell_type": "markdown",
   "metadata": {},
   "source": [
    "<h2 id=\"data_class\">Dataset Class</h2>\n"
   ]
  },
  {
   "cell_type": "code",
   "execution_count": 3,
   "metadata": {
    "tags": []
   },
   "outputs": [],
   "source": [
    "# Dataset created in previous notebook\n",
    "\n",
    "class Dataset(Dataset):\n",
    "\n",
    "    # Constructor\n",
    "    def __init__(self, transform = None, train = True):\n",
    "        directory = \"/resources/data\"\n",
    "        positive = 'Positive'\n",
    "        negative= 'Negative'\n",
    "\n",
    "        positive_file_path = os.path.join(directory, positive)\n",
    "        negative_file_path = os.path.join(directory, negative)\n",
    "        \n",
    "        positive_files = [os.path.join(positive_file_path, file) for file\n",
    "                          in os.listdir(positive_file_path) if file.endswith('.jpg')]\n",
    "        positive_files.sort()\n",
    "        \n",
    "        negative_files = [os.path.join(negative_file_path, file) for file\n",
    "                          in os.listdir(negative_file_path) if file.endswith('.jpg')]\n",
    "        negative_files.sort()\n",
    "        \n",
    "        number_of_samples = len(positive_files) + len(negative_files)\n",
    "        \n",
    "        self.all_files = [None]*number_of_samples\n",
    "        self.all_files[::2] = positive_files\n",
    "        self.all_files[1::2] = negative_files\n",
    "        \n",
    "        # The transform will be used on image\n",
    "        self.transform = transform\n",
    "        \n",
    "        # torch.LongTensor\n",
    "        self.Y = torch.zeros([number_of_samples]).type(torch.LongTensor)\n",
    "        self.Y[::2] = 1\n",
    "        self.Y[1::2] = 0\n",
    "        \n",
    "        if train:\n",
    "            self.all_files = self.all_files[0:30000] # Change to 10000 to decrease the training time\n",
    "            self.Y = self.Y[0:30000] # Change to 10000 to decrease the training time\n",
    "            self.len = len(self.all_files)\n",
    "        else:\n",
    "            self.all_files = self.all_files[30000:]\n",
    "            self.Y = self.Y[30000:]\n",
    "            self.len = len(self.all_files)\n",
    "       \n",
    "    # Get the length\n",
    "    def __len__(self):\n",
    "        return self.len\n",
    "    \n",
    "    # Getter\n",
    "    def __getitem__(self, idx):\n",
    "        \n",
    "        image = Image.open(self.all_files[idx])\n",
    "        y = self.Y[idx]\n",
    "\n",
    "        # If there is any transform method, apply it onto the image\n",
    "        if self.transform:\n",
    "            image = self.transform(image)\n",
    "\n",
    "        return image, y"
   ]
  },
  {
   "cell_type": "markdown",
   "metadata": {},
   "source": [
    "<h2 id=\"trasform_Data_object\">Transform Object and Dataset Object</h2>\n"
   ]
  },
  {
   "cell_type": "code",
   "execution_count": 4,
   "metadata": {
    "tags": []
   },
   "outputs": [],
   "source": [
    "mean = [0.485, 0.456, 0.406] # Value for mean are provided\n",
    "std = [0.229, 0.224, 0.225] # Value for std are provided\n",
    "\n",
    "# Create transform object with Compose function -- transforms.Compose([])\n",
    "# 1st use the transform ToTensor(), 2nd Normalize(mean, std)\n",
    "\n",
    "transform = transforms.Compose([transforms.ToTensor(), transforms.Normalize(mean, std)])"
   ]
  },
  {
   "cell_type": "code",
   "execution_count": 5,
   "metadata": {
    "tags": []
   },
   "outputs": [],
   "source": [
    "# Create object for the training data\n",
    "training_dset = Dataset(transform = transform, train = True)\n",
    "\n",
    "# Create object for the training data validation\n",
    "validation_dset = Dataset(transform = transform, train = False)"
   ]
  },
  {
   "cell_type": "code",
   "execution_count": 6,
   "metadata": {
    "tags": []
   },
   "outputs": [
    {
     "data": {
      "text/plain": [
       "torch.Size([3, 227, 227])"
      ]
     },
     "execution_count": 6,
     "metadata": {},
     "output_type": "execute_result"
    }
   ],
   "source": [
    "# Find image shape\n",
    "training_dset[0][0].shape"
   ]
  },
  {
   "cell_type": "code",
   "execution_count": 7,
   "metadata": {
    "tags": []
   },
   "outputs": [
    {
     "data": {
      "text/plain": [
       "154587"
      ]
     },
     "execution_count": 7,
     "metadata": {},
     "output_type": "execute_result"
    }
   ],
   "source": [
    "# It is colored image with 3 channels (see output above); thus, calculation is multiplied by 3\n",
    "size_of_image = 3*227*227\n",
    "size_of_image"
   ]
  },
  {
   "cell_type": "markdown",
   "metadata": {},
   "source": [
    "<h2 id=\"Question\"> Question </h2>\n"
   ]
  },
  {
   "cell_type": "markdown",
   "metadata": {},
   "source": [
    "<b> Create a custom module for Softmax for two classes, called model.</b>\n"
   ]
  },
  {
   "cell_type": "markdown",
   "metadata": {},
   "source": [
    "Train the model with the following free parameter values:\n"
   ]
  },
  {
   "cell_type": "markdown",
   "metadata": {},
   "source": [
    "<b>Parameter Values</b>\n",
    "   <li>learning rate:0.1 </li>\n",
    "   <li>momentum term:0.1 </li>\n",
    "   <li>batch size training:5</li>\n",
    "   <li>Loss function:Cross Entropy Loss </li>\n",
    "   <li>epochs:5</li>\n",
    "   <li>set: torch.manual_seed(0)</li>\n"
   ]
  },
  {
   "cell_type": "code",
   "execution_count": 8,
   "metadata": {
    "tags": []
   },
   "outputs": [
    {
     "data": {
      "text/plain": [
       "<torch._C.Generator at 0x7fae14cf1f10>"
      ]
     },
     "execution_count": 8,
     "metadata": {},
     "output_type": "execute_result"
    }
   ],
   "source": [
    "# Set seed so results can be replicated\n",
    "torch.manual_seed(0)"
   ]
  },
  {
   "cell_type": "code",
   "execution_count": 9,
   "metadata": {
    "tags": []
   },
   "outputs": [],
   "source": [
    "# Define parameters\n",
    "learning_rate = 0.1\n",
    "momentum_term = 0.1\n",
    "epochs = 5"
   ]
  },
  {
   "cell_type": "code",
   "execution_count": 10,
   "metadata": {
    "tags": []
   },
   "outputs": [],
   "source": [
    "# Create Custom Module\n",
    "\n",
    "class SoftMax(nn.Module):\n",
    "    def __init__(self, in_size, out_size):\n",
    "        super(SoftMax, self).__init__()\n",
    "        self.linear = nn.Linear(in_size, out_size)\n",
    "    \n",
    "    def forward(self, x):\n",
    "        z = self.linear(x)\n",
    "        return z"
   ]
  },
  {
   "cell_type": "code",
   "execution_count": 11,
   "metadata": {
    "tags": []
   },
   "outputs": [],
   "source": [
    "# Create Model Object\n",
    "\n",
    "input_dim = size_of_image\n",
    "output_dim = 2\n",
    "model = SoftMax(input_dim, output_dim)"
   ]
  },
  {
   "cell_type": "code",
   "execution_count": 12,
   "metadata": {
    "tags": []
   },
   "outputs": [],
   "source": [
    "# Create Optimizer\n",
    "optimizer = torch.optim.SGD(params = model.parameters(),\n",
    "                            lr = learning_rate, momentum = momentum_term)\n",
    "\n",
    "# Define Criterion\n",
    "criterion = nn.CrossEntropyLoss()\n",
    "\n",
    "# Create Data Loader for Training and Validation datasets\n",
    "train_loader = DataLoader(training_dset, batch_size = 5, shuffle = True)\n",
    "validation_loader = DataLoader(validation_dset, batch_size = 500)"
   ]
  },
  {
   "cell_type": "code",
   "execution_count": 15,
   "metadata": {
    "tags": []
   },
   "outputs": [],
   "source": [
    "# Train Model (Takes long time!!!)\n",
    "\n",
    "loss_list = []\n",
    "accuracy_per_list = []\n",
    "N_test = len(validation_dset)\n",
    "\n",
    "def model_train(n_epochs):\n",
    "    for epoch in range(n_epochs):\n",
    "        for x, y in train_loader:\n",
    "            optimizer.zero_grad()\n",
    "            z = model(x.view(-1, input_dim))\n",
    "            loss = criterion(z, y)\n",
    "            loss.backward()\n",
    "            optimizer.step()\n",
    "        \n",
    "        correct = 0\n",
    "        for x_val, y_val in validation_loader:\n",
    "            z = model(x_val.view(-1, input_dim))\n",
    "            _, yhat = torch.max(z.data, 1)\n",
    "            correct += (yhat == y_val).sum().item()\n",
    "        \n",
    "        accuracy = (correct / N_test) * 100\n",
    "        loss_list.append(loss)\n",
    "        accuracy_per_list.append(accuracy)\n",
    "model_train(epochs)"
   ]
  },
  {
   "cell_type": "code",
   "execution_count": 26,
   "metadata": {
    "tags": []
   },
   "outputs": [
    {
     "data": {
      "image/png": "[encoded data removed]",
      "text/plain": [
       "<Figure size 640x480 with 2 Axes>"
      ]
     },
     "metadata": {},
     "output_type": "display_data"
    }
   ],
   "source": [
    "fig, ax1 = plt.subplots()\n",
    "color = 'tab:red'\n",
    "ax1.plot(loss_list,color = color)\n",
    "ax1.set_xlabel('Epoch',color = color)\n",
    "ax1.set_ylabel('Total Loss',color = color)\n",
    "ax1.tick_params(axis = 'y', color = color)\n",
    "    \n",
    "ax2 = ax1.twinx()  \n",
    "color = 'tab:blue'\n",
    "ax2.set_ylabel('Accuracy Percentage', color = color)  \n",
    "ax2.plot(accuracy_per_list, color = color)\n",
    "ax2.tick_params(axis = 'y', color = color)\n",
    "fig.tight_layout()\n",
    "plt.show()"
   ]
  },
  {
   "cell_type": "markdown",
   "metadata": {},
   "source": [
    "Copyright &copy; 2019 <a href=\"cognitiveclass.ai\"> cognitiveclass.ai</a>. This notebook and its source code are released under the terms of the <a href=\"https://bigdatauniversity.com/mit-license/\">MIT License</a>\n"
   ]
  }
 ],
 "metadata": {
  "kernelspec": {
   "display_name": "Python",
   "language": "python",
   "name": "conda-env-python-py"
  },
  "language_info": {
   "codemirror_mode": {
    "name": "ipython",
    "version": 3
   },
   "file_extension": ".py",
   "mimetype": "text/x-python",
   "name": "python",
   "nbconvert_exporter": "python",
   "pygments_lexer": "ipython3",
   "version": "3.7.12"
  },
  "prev_pub_hash": "d76b47f27f3838cee5fcf531fe9ce8abc439f204aaa935161f67b638f12e7c04"
 },
 "nbformat": 4,
 "nbformat_minor": 4
}
