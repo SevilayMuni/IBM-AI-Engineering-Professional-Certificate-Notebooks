{
 "cells": [
  {
   "cell_type": "markdown",
   "metadata": {},
   "source": [
    "<p style=\"text-align:center\">\n",
    "    <a href=\"https://skills.network\" target=\"_blank\">\n",
    "    <img src=\"https://cf-courses-data.s3.us.cloud-object-storage.appdomain.cloud/assets/logos/SN_web_lightmode.png\" width=\"200\" alt=\"Skills Network Logo\">\n",
    "    </a>\n",
    "</p>\n",
    "<h1 align=center><font size = 5>Convolutional Neural Network Simple example </font></h1> \n"
   ]
  },
  {
   "cell_type": "markdown",
   "metadata": {},
   "source": [
    "<h3>Objective for this Notebook</h3>    \n",
    "<h5> 1. Learn Convolutional Neural Network</h5>\n",
    "<h5> 2. Define Softmax , Criterion function, Optimizer and Train the  Model</h5>    "
   ]
  },
  {
   "cell_type": "markdown",
   "metadata": {},
   "source": [
    "\n",
    "# Table of Contents\n",
    "\n",
    "\n",
    "<div class=\"alert alert-block alert-info\" style=\"margin-top: 20px\">\n",
    "<li><a href=\"#ref0\">Helper Functions </a></li>\n",
    "<li><a href=\"#ref1\"> Prepare Data </a></li>\n",
    "<li><a href=\"#ref2\">Convolutional Neural Network </a></li>\n",
    "<li><a href=\"#ref3\">Define Softmax , Criterion function, Optimizer and Train the  Model</a></li>\n",
    "<li><a href=\"#ref4\">Analyse Results</a></li>\n",
    "\n",
    "<br>\n",
    "\n",
    "\n",
    "</div>\n",
    "\n",
    "<hr>\n"
   ]
  },
  {
   "cell_type": "markdown",
   "metadata": {},
   "source": [
    "<a id=\"ref0\"></a>\n",
    "<a name=\"ref0\"><h2 align=center>Helper Functions </h2></a>\n"
   ]
  },
  {
   "cell_type": "code",
   "execution_count": 1,
   "metadata": {
    "tags": []
   },
   "outputs": [
    {
     "data": {
      "text/plain": [
       "<torch._C.Generator at 0x7f69bd931190>"
      ]
     },
     "execution_count": 1,
     "metadata": {},
     "output_type": "execute_result"
    }
   ],
   "source": [
    "import numpy as np\n",
    "import pandas as pd\n",
    "import matplotlib.pylab as plt\n",
    "\n",
    "import torch\n",
    "import torch.nn as nn\n",
    "from torch.utils.data import Dataset, DataLoader\n",
    "import torchvision.transforms as transforms\n",
    "import torchvision.datasets as dsets\n",
    "torch.manual_seed(4)"
   ]
  },
  {
   "cell_type": "code",
   "execution_count": 2,
   "metadata": {
    "tags": []
   },
   "outputs": [],
   "source": [
    "# Function to plot out the parameters of the Convolutional Layers\n",
    "\n",
    "def plot_channels(W):\n",
    "    # number of output channels\n",
    "    n_out = W.shape[0]\n",
    "    # number of input channels\n",
    "    n_in = W.shape[1]\n",
    "    w_min = W.min().item()\n",
    "    w_max = W.max().item()\n",
    "    fig, axes = plt.subplots(n_out, n_in)\n",
    "    fig.subplots_adjust(hspace = 0.1)\n",
    "    out_index = 0\n",
    "    in_index = 0\n",
    "    # plot outputs as rows, inputs as columns\n",
    "    for ax in axes.flat:\n",
    "        if in_index > n_in-1:\n",
    "            out_index = out_index+1\n",
    "            in_index = 0\n",
    "\n",
    "        ax.imshow(W[out_index,in_index,:,:], vmin = w_min,\n",
    "                  vmax = w_max, cmap = 'seismic')\n",
    "        ax.set_yticklabels([])\n",
    "        ax.set_xticklabels([])\n",
    "        in_index = in_index+1\n",
    "\n",
    "    plt.show()"
   ]
  },
  {
   "cell_type": "code",
   "execution_count": 3,
   "metadata": {
    "tags": []
   },
   "outputs": [],
   "source": [
    "# Plot out data sample\n",
    "\n",
    "def show_data(dataset,sample):\n",
    "    plt.imshow(dataset.x[sample,0,:,:].numpy(), cmap = 'gray')\n",
    "    plt.title('y ='+str(dataset.y[sample].item()))\n",
    "    plt.show()"
   ]
  },
  {
   "cell_type": "code",
   "execution_count": 5,
   "metadata": {
    "tags": []
   },
   "outputs": [],
   "source": [
    "# Create some toy data\n",
    "\n",
    "class Data(Dataset):\n",
    "    def __init__(self, N_images = 100, offset = 0, p = 0.9, train = False):\n",
    "        \"\"\"\n",
    "        p:portability that pixel is wight\n",
    "        N_images:number of images\n",
    "        offset:set random vertical and horizontal offset images by sample should be less than 3\n",
    "        \"\"\"\n",
    "        if train == True:\n",
    "            np.random.seed(1)\n",
    "        \n",
    "        # make images multiple of 3\n",
    "        N_images = 2*(N_images//2)\n",
    "        images = np.zeros((N_images,1,11,11))\n",
    "        start1 = 3\n",
    "        start2 = 1\n",
    "        self.y = torch.zeros(N_images).type(torch.long)\n",
    "\n",
    "        for n in range(N_images):\n",
    "            if offset > 0:\n",
    "                low = int(np.random.randint(low = start1,\n",
    "                                            high = start1+offset, size = 1))\n",
    "                high = int(np.random.randint(low = start2,\n",
    "                                             high = start2+offset, size = 1))\n",
    "            else:\n",
    "                low = 4\n",
    "                high = 1\n",
    "        \n",
    "            if n<=N_images//2:\n",
    "                self.y[n] = 0\n",
    "                images[n, 0, high:high+9, low:low+3] = np.random.binomial(1, p, (9,3))\n",
    "            elif  n>N_images//2:\n",
    "                self.y[n] = 1\n",
    "                images[n, 0, low:low+3, high:high+9] = np.random.binomial(1, p, (3,9))\n",
    "        \n",
    "        \n",
    "        self.x = torch.from_numpy(images).type(torch.FloatTensor)\n",
    "        self.len = self.x.shape[0]\n",
    "        del(images)\n",
    "        np.random.seed(0)\n",
    "    def __getitem__(self,index):\n",
    "        return self.x[index], self.y[index]\n",
    "    def __len__(self):\n",
    "        return self.len"
   ]
  },
  {
   "cell_type": "code",
   "execution_count": 6,
   "metadata": {
    "tags": []
   },
   "outputs": [],
   "source": [
    "# Define function to plot out the activations of the Convolutional layers\n",
    "\n",
    "def plot_activations(A, number_rows = 1,name = \"\"):\n",
    "    A=A[0,:,:,:].detach().numpy()\n",
    "    n_activations = A.shape[0]\n",
    "\n",
    "    print(n_activations)\n",
    "    A_min = A.min().item()\n",
    "    A_max = A.max().item()\n",
    "\n",
    "    if n_activations == 1:\n",
    "        # Plot the image\n",
    "        plt.imshow(A[0,:], vmin = A_min, vmax = A_max, cmap = 'seismic')\n",
    "\n",
    "    else:\n",
    "        fig, axes = plt.subplots(number_rows, n_activations//number_rows)\n",
    "        fig.subplots_adjust(hspace = 0.4)\n",
    "        for i,ax in enumerate(axes.flat):\n",
    "            if i< n_activations:\n",
    "                # Set the label for the sub-plot\n",
    "                ax.set_xlabel(\"activation:{0}\".format(i+1))\n",
    "                # Plot the image\n",
    "                ax.imshow(A[i,:], vmin = A_min, vmax = A_max, cmap = 'seismic')\n",
    "                ax.set_xticks([])\n",
    "                ax.set_yticks([])\n",
    "    plt.show()"
   ]
  },
  {
   "cell_type": "code",
   "execution_count": 7,
   "metadata": {
    "tags": []
   },
   "outputs": [],
   "source": [
    "# Utility function for computing output of convolutions takes tuple of (h,w) and returns tuple of (h,w)\n",
    "\n",
    "def conv_output_shape(h_w, kernel_size = 1,\n",
    "                      stride = 1, pad = 0, dilation = 1):\n",
    "    # by Duane Nielsen\n",
    "    from math import floor\n",
    "    if type(kernel_size) is not tuple:\n",
    "        kernel_size = (kernel_size, kernel_size)\n",
    "    h = floor( ((h_w[0] + (2 * pad) - ( dilation * (kernel_size[0] - 1) ) - 1 )/ stride) + 1)\n",
    "    w = floor( ((h_w[1] + (2 * pad) - ( dilation * (kernel_size[1] - 1) ) - 1 )/ stride) + 1)\n",
    "    return h, w"
   ]
  },
  {
   "cell_type": "markdown",
   "metadata": {},
   "source": [
    "<a id=\"ref1\"></a>\n",
    "<a name=\"ref1\"><h2 align=center>Prepare Data </h2></a>\n"
   ]
  },
  {
   "cell_type": "code",
   "execution_count": 9,
   "metadata": {
    "tags": []
   },
   "outputs": [],
   "source": [
    "# Load the training dataset with 10000 samples\n",
    "N_images = 10000\n",
    "train_dataset = Data(N_images = N_images)\n",
    "\n",
    "# Load the testing dataset\n",
    "validation_dataset = Data(N_images = 1000, train = False)"
   ]
  },
  {
   "cell_type": "markdown",
   "metadata": {},
   "source": [
    "### Data Visualization \n"
   ]
  },
  {
   "cell_type": "markdown",
   "metadata": {},
   "source": [
    "Each element in the rectangular  tensor corresponds to a number representing a pixel intensity  as demonstrated by  the following image.\n"
   ]
  },
  {
   "cell_type": "code",
   "execution_count": 11,
   "metadata": {
    "tags": []
   },
   "outputs": [
    {
     "data": {
      "image/png": "[encoded data removed]",
      "text/plain": [
       "<Figure size 640x480 with 1 Axes>"
      ]
     },
     "metadata": {},
     "output_type": "display_data"
    }
   ],
   "source": [
    "show_data(train_dataset, 0)"
   ]
  },
  {
   "cell_type": "code",
   "execution_count": 12,
   "metadata": {
    "tags": []
   },
   "outputs": [
    {
     "data": {
      "image/png": "[encoded data removed]",
      "text/plain": [
       "<Figure size 640x480 with 1 Axes>"
      ]
     },
     "metadata": {},
     "output_type": "display_data"
    }
   ],
   "source": [
    "# We can print out the third label\n",
    "show_data(train_dataset, N_images//2+2)"
   ]
  },
  {
   "cell_type": "markdown",
   "metadata": {},
   "source": [
    "<a id=\"ref3\"></a>\n",
    "### Build a Convolutional Neral Network Class \n"
   ]
  },
  {
   "cell_type": "markdown",
   "metadata": {},
   "source": [
    "The input image is 11 x11, the following will change the size of the activations:\n",
    "<ul>\n",
    "<il>convolutional layer</il> \n",
    "</ul>\n",
    "<ul>\n",
    "<il>max pooling layer</il> \n",
    "</ul>\n",
    "<ul>\n",
    "<il>convolutional layer </il>\n",
    "</ul>\n",
    "<ul>\n",
    "<il>max pooling layer </il>\n",
    "</ul>\n",
    "\n",
    "with the following parameters <code>kernel_size</code>, <code>stride</code> and <code> pad</code>.\n",
    "We use the following  lines of code to change the image before we get to the fully connected layer.\n"
   ]
  },
  {
   "cell_type": "code",
   "execution_count": 13,
   "metadata": {
    "tags": []
   },
   "outputs": [
    {
     "name": "stdout",
     "output_type": "stream",
     "text": [
      "(10, 10)\n",
      "(9, 9)\n",
      "(8, 8)\n",
      "(7, 7)\n"
     ]
    }
   ],
   "source": [
    "out = conv_output_shape((11,11), kernel_size = 2,\n",
    "                        stride = 1, pad = 0, dilation = 1)\n",
    "print(out)\n",
    "\n",
    "out1 = conv_output_shape(out, kernel_size = 2,\n",
    "                         stride = 1, pad = 0, dilation = 1)\n",
    "print(out1)\n",
    "\n",
    "out2 = conv_output_shape(out1, kernel_size = 2,\n",
    "                         stride = 1, pad = 0, dilation = 1)\n",
    "print(out2)\n",
    "\n",
    "out3 = conv_output_shape(out2, kernel_size = 2,\n",
    "                         stride = 1, pad = 0, dilation = 1)\n",
    "print(out3)"
   ]
  },
  {
   "cell_type": "markdown",
   "metadata": {},
   "source": [
    "Build a Convolutional Network class with two Convolutional layers and one fully connected layer. Pre-determine the size of the final output matrix. The parameters in the constructor are the number of output channels for 1st and 2nd layer.\n"
   ]
  },
  {
   "cell_type": "code",
   "execution_count": 14,
   "metadata": {
    "tags": []
   },
   "outputs": [],
   "source": [
    "class CNN(nn.Module):\n",
    "    def __init__(self, out_1 = 2, out_2 = 1):\n",
    "        \n",
    "        super(CNN,self).__init__()\n",
    "        # 1st Convolutional layer\n",
    "        self.cnn1 = nn.Conv2d(in_channels = 1,\n",
    "                              out_channels = out_1,kernel_size = 2, padding = 0)\n",
    "        self.maxpool1 = nn.MaxPool2d(kernel_size = 2, stride = 1)\n",
    "\n",
    "        # 2nd Convolutional layer\n",
    "        self.cnn2 = nn.Conv2d(in_channels = out_1, out_channels = out_2,\n",
    "                              kernel_size = 2, stride = 1, padding = 0)\n",
    "        \n",
    "        # Max pooling\n",
    "        self.maxpool2 = nn.MaxPool2d(kernel_size = 2, stride = 1)\n",
    "\n",
    "        # Fully connected layer\n",
    "        self.fc1 = nn.Linear(out_2*7*7,2)\n",
    "        \n",
    "    def forward(self, x):\n",
    "        # 1st Convolutional layer\n",
    "        x = self.cnn1(x)\n",
    "        # Activation function\n",
    "        x = torch.relu(x)\n",
    "        # max pooling\n",
    "        x = self.maxpool1(x)\n",
    "        \n",
    "        # 2nd Convolutional layer\n",
    "        x = self.cnn2(x)\n",
    "        # Activation function\n",
    "        x = torch.relu(x)\n",
    "        # Max pooling\n",
    "        x = self.maxpool2(x)\n",
    "        \n",
    "        # Flatten output\n",
    "        x = x.view(x.size(0), -1)\n",
    "        # Fully connected layer\n",
    "        x = self.fc1(x)\n",
    "        return x\n",
    "    \n",
    "    def activations(self, x):\n",
    "        # outputs activation this is not necessary just for fun\n",
    "        z1 = self.cnn1(x)\n",
    "        a1 = torch.relu(z1)\n",
    "        out = self.maxpool1(a1)\n",
    "        \n",
    "        z2 = self.cnn2(out)\n",
    "        a2 = torch.relu(z2)\n",
    "        out = self.maxpool2(a2)\n",
    "        out = out.view(out.size(0), -1)\n",
    "        return z1, a1, z2, a2, out"
   ]
  },
  {
   "cell_type": "markdown",
   "metadata": {},
   "source": [
    "<a name=\"ref3\"><h2> Define the Convolutional Neural Network Classifier, Criterion Function, Optimizer and Train the  Model  </h2></a> "
   ]
  },
  {
   "cell_type": "code",
   "execution_count": 15,
   "metadata": {
    "tags": []
   },
   "outputs": [],
   "source": [
    "# 2 output channels for the 1st layer, and 1 outputs channel for the 2nd layer\n",
    "\n",
    "model = CNN(2, 1)"
   ]
  },
  {
   "cell_type": "code",
   "execution_count": 16,
   "metadata": {
    "tags": []
   },
   "outputs": [
    {
     "data": {
      "text/plain": [
       "CNN(\n",
       "  (cnn1): Conv2d(1, 2, kernel_size=(2, 2), stride=(1, 1))\n",
       "  (maxpool1): MaxPool2d(kernel_size=2, stride=1, padding=0, dilation=1, ceil_mode=False)\n",
       "  (cnn2): Conv2d(2, 1, kernel_size=(2, 2), stride=(1, 1))\n",
       "  (maxpool2): MaxPool2d(kernel_size=2, stride=1, padding=0, dilation=1, ceil_mode=False)\n",
       "  (fc1): Linear(in_features=49, out_features=2, bias=True)\n",
       ")"
      ]
     },
     "execution_count": 16,
     "metadata": {},
     "output_type": "execute_result"
    }
   ],
   "source": [
    "# See the model parameters with the object\n",
    "\n",
    "model"
   ]
  },
  {
   "cell_type": "code",
   "execution_count": 17,
   "metadata": {
    "tags": []
   },
   "outputs": [
    {
     "data": {
      "image/png": "[encoded data removed]",
      "text/plain": [
       "<Figure size 640x480 with 2 Axes>"
      ]
     },
     "metadata": {},
     "output_type": "display_data"
    }
   ],
   "source": [
    "# Plot model parameters for the kernels before training the kernels\n",
    "# The kernels are initialized randomly\n",
    "\n",
    "plot_channels(model.state_dict()['cnn1.weight'])"
   ]
  },
  {
   "cell_type": "code",
   "execution_count": 18,
   "metadata": {
    "tags": []
   },
   "outputs": [
    {
     "data": {
      "image/png": "[encoded data removed]",
      "text/plain": [
       "<Figure size 640x480 with 2 Axes>"
      ]
     },
     "metadata": {},
     "output_type": "display_data"
    }
   ],
   "source": [
    "plot_channels(model.state_dict()['cnn2.weight'])"
   ]
  },
  {
   "cell_type": "code",
   "execution_count": 19,
   "metadata": {
    "tags": []
   },
   "outputs": [],
   "source": [
    "# Define the loss function\n",
    "criterion = nn.CrossEntropyLoss()\n",
    "\n",
    "# Define the optimizer class\n",
    "learning_rate = 0.001\n",
    "optimizer = torch.optim.Adam(model.parameters(), lr = learning_rate)"
   ]
  },
  {
   "cell_type": "code",
   "execution_count": 20,
   "metadata": {
    "tags": []
   },
   "outputs": [],
   "source": [
    "# Create data loaders for train and validation datasets\n",
    "train_loader = DataLoader(dataset = train_dataset, batch_size = 10)\n",
    "validation_loader = DataLoader(dataset = validation_dataset, batch_size = 20)"
   ]
  },
  {
   "cell_type": "code",
   "execution_count": 21,
   "metadata": {
    "tags": []
   },
   "outputs": [],
   "source": [
    "# Train the model and determine validation accuracy (This may take a long time!!!)\n",
    "\n",
    "n_epochs = 10\n",
    "cost_list = []\n",
    "accuracy_list = []\n",
    "N_test = len(validation_dataset)\n",
    "cost = 0\n",
    "\n",
    "for epoch in range(n_epochs):\n",
    "    cost = 0\n",
    "    for x, y in train_loader:\n",
    "        # Clear gradient\n",
    "        optimizer.zero_grad()\n",
    "        # Make prediction\n",
    "        z = model(x)\n",
    "        # Calculate loss\n",
    "        loss = criterion(z,y)\n",
    "        # Calculate gradients of parameters\n",
    "        loss.backward()\n",
    "        # Update parameters\n",
    "        optimizer.step()\n",
    "        cost+=loss.item()\n",
    "    cost_list.append(cost)\n",
    "\n",
    "    correct = 0\n",
    "    # Perform prediction on the validation data\n",
    "    for x_test, y_test in validation_loader:\n",
    "        z = model(x_test)\n",
    "        _,yhat = torch.max(z.data,1)\n",
    "        correct+=(yhat == y_test).sum().item()\n",
    "\n",
    "    accuracy = correct/N_test\n",
    "    accuracy_list.append(accuracy)"
   ]
  },
  {
   "cell_type": "markdown",
   "metadata": {},
   "source": [
    "<a id=\"ref4\"></a>\n",
    "<a name=\"ref4\"><h2 align=center>Analyse Results</h2></a>\n"
   ]
  },
  {
   "cell_type": "code",
   "execution_count": 22,
   "metadata": {
    "tags": []
   },
   "outputs": [
    {
     "data": {
      "image/png": "[encoded data removed]",
      "text/plain": [
       "<Figure size 640x480 with 2 Axes>"
      ]
     },
     "metadata": {},
     "output_type": "display_data"
    }
   ],
   "source": [
    "# Plot the loss and accuracy on the validation data\n",
    "\n",
    "fig, ax1 = plt.subplots()\n",
    "color = 'tab:red'\n",
    "ax1.plot(cost_list, color = color)\n",
    "ax1.set_xlabel('Epoch', color = color)\n",
    "ax1.set_ylabel('Total Loss', color = color)\n",
    "ax1.tick_params(axis = 'y', color = color)\n",
    "\n",
    "ax2 = ax1.twinx()\n",
    "color = 'tab:blue'\n",
    "ax2.set_ylabel('Accuracy', color = color)\n",
    "ax2.plot(accuracy_list, color = color)\n",
    "ax2.tick_params(axis = 'y', labelcolor = color)\n",
    "fig.tight_layout()"
   ]
  },
  {
   "cell_type": "code",
   "execution_count": 23,
   "metadata": {
    "tags": []
   },
   "outputs": [
    {
     "data": {
      "text/plain": [
       "tensor([[[[ 0.3888,  0.5008],\n",
       "          [-0.0477, -0.0855]]],\n",
       "\n",
       "\n",
       "        [[[-0.4323, -0.2863],\n",
       "          [ 0.9211,  0.8493]]]])"
      ]
     },
     "execution_count": 23,
     "metadata": {},
     "output_type": "execute_result"
    }
   ],
   "source": [
    "# View the results of the parameters for the Convolutional layers\n",
    "model.state_dict()['cnn1.weight']"
   ]
  },
  {
   "cell_type": "code",
   "execution_count": 24,
   "metadata": {
    "tags": []
   },
   "outputs": [
    {
     "data": {
      "image/png": "[encoded data removed]",
      "text/plain": [
       "<Figure size 640x480 with 2 Axes>"
      ]
     },
     "metadata": {},
     "output_type": "display_data"
    }
   ],
   "source": [
    "plot_channels(model.state_dict()['cnn1.weight'])"
   ]
  },
  {
   "cell_type": "code",
   "execution_count": 25,
   "metadata": {
    "tags": []
   },
   "outputs": [
    {
     "data": {
      "text/plain": [
       "tensor([[[[ 0.3888,  0.5008],\n",
       "          [-0.0477, -0.0855]]],\n",
       "\n",
       "\n",
       "        [[[-0.4323, -0.2863],\n",
       "          [ 0.9211,  0.8493]]]])"
      ]
     },
     "execution_count": 25,
     "metadata": {},
     "output_type": "execute_result"
    }
   ],
   "source": [
    "model.state_dict()['cnn1.weight']"
   ]
  },
  {
   "cell_type": "code",
   "execution_count": 26,
   "metadata": {
    "tags": []
   },
   "outputs": [
    {
     "data": {
      "image/png": "[encoded data removed]",
      "text/plain": [
       "<Figure size 640x480 with 2 Axes>"
      ]
     },
     "metadata": {},
     "output_type": "display_data"
    }
   ],
   "source": [
    "plot_channels(model.state_dict()['cnn2.weight'])"
   ]
  },
  {
   "cell_type": "code",
   "execution_count": 27,
   "metadata": {
    "tags": []
   },
   "outputs": [
    {
     "data": {
      "image/png": "[encoded data removed]",
      "text/plain": [
       "<Figure size 640x480 with 1 Axes>"
      ]
     },
     "metadata": {},
     "output_type": "display_data"
    }
   ],
   "source": [
    "# Consider the following sample\n",
    "\n",
    "show_data(train_dataset, N_images//2+2)"
   ]
  },
  {
   "cell_type": "code",
   "execution_count": 28,
   "metadata": {
    "tags": []
   },
   "outputs": [],
   "source": [
    "# Determine the activations\n",
    "\n",
    "out = model.activations(train_dataset[N_images//2+2][0].view(1,1,11,11))\n",
    "out = model.activations(train_dataset[0][0].view(1,1,11,11))"
   ]
  },
  {
   "cell_type": "code",
   "execution_count": 29,
   "metadata": {
    "tags": []
   },
   "outputs": [
    {
     "name": "stdout",
     "output_type": "stream",
     "text": [
      "2\n"
     ]
    },
    {
     "data": {
      "image/png": "[encoded data removed]",
      "text/plain": [
       "<Figure size 640x480 with 2 Axes>"
      ]
     },
     "metadata": {},
     "output_type": "display_data"
    }
   ],
   "source": [
    "# Plot them out\n",
    "\n",
    "plot_activations(out[0], number_rows = 1, name = 'feature map')\n",
    "plt.show()"
   ]
  },
  {
   "cell_type": "code",
   "execution_count": 30,
   "metadata": {
    "tags": []
   },
   "outputs": [
    {
     "name": "stdout",
     "output_type": "stream",
     "text": [
      "1\n"
     ]
    },
    {
     "data": {
      "image/png": "[encoded data removed]",
      "text/plain": [
       "<Figure size 640x480 with 1 Axes>"
      ]
     },
     "metadata": {},
     "output_type": "display_data"
    }
   ],
   "source": [
    "plot_activations(out[2], number_rows = 1, name = '2nd feature map')\n",
    "plt.show()"
   ]
  },
  {
   "cell_type": "code",
   "execution_count": 31,
   "metadata": {
    "tags": []
   },
   "outputs": [
    {
     "name": "stdout",
     "output_type": "stream",
     "text": [
      "1\n"
     ]
    },
    {
     "data": {
      "image/png": "[encoded data removed]",
      "text/plain": [
       "<Figure size 640x480 with 1 Axes>"
      ]
     },
     "metadata": {},
     "output_type": "display_data"
    }
   ],
   "source": [
    "plot_activations(out[3], number_rows = 1, name = 'first feature map')\n",
    "plt.show()"
   ]
  },
  {
   "cell_type": "code",
   "execution_count": 32,
   "metadata": {
    "tags": []
   },
   "outputs": [],
   "source": [
    "# Save the output of the activation after flattening\n",
    "\n",
    "out1 = out[4][0].detach().numpy()"
   ]
  },
  {
   "cell_type": "code",
   "execution_count": 33,
   "metadata": {
    "tags": []
   },
   "outputs": [
    {
     "data": {
      "text/plain": [
       "array([0.74286526, 1.7852224 , 2.5095966 , 2.542151  , 2.542151  ,\n",
       "       2.2080631 , 1.0020232 , 0.599458  , 1.4955459 , 2.1564965 ,\n",
       "       2.2978835 , 2.2978835 , 1.9130142 , 0.96670747, 0.599458  ,\n",
       "       1.4955459 , 2.1124332 , 2.2791    , 2.2791    , 1.9122138 ,\n",
       "       1.1047955 , 0.599458  , 1.3521385 , 1.9661636 , 2.087604  ,\n",
       "       2.087604  , 1.9159286 , 1.1047955 , 0.599458  , 1.3521385 ,\n",
       "       1.9661636 , 2.0746133 , 2.0746133 , 1.9159286 , 1.0020232 ,\n",
       "       0.599458  , 1.3521385 , 1.8227565 , 1.8227565 , 1.8227565 ,\n",
       "       1.5909786 , 0.838298  , 0.6166177 , 1.4248364 , 1.9210916 ,\n",
       "       1.9210916 , 1.9210916 , 1.672154  , 0.8639351 ], dtype=float32)"
      ]
     },
     "execution_count": 33,
     "metadata": {},
     "output_type": "execute_result"
    }
   ],
   "source": [
    "# do the same for a sample where y=0\n",
    "\n",
    "out0 = model.activations(\n",
    "    train_dataset[100][0].view(1,1,11,11))[4][0].detach().numpy()\n",
    "out0"
   ]
  },
  {
   "cell_type": "code",
   "execution_count": 34,
   "metadata": {
    "tags": []
   },
   "outputs": [
    {
     "data": {
      "image/png": "[encoded data removed]",
      "text/plain": [
       "<Figure size 640x480 with 2 Axes>"
      ]
     },
     "metadata": {},
     "output_type": "display_data"
    }
   ],
   "source": [
    "plt.subplot(2, 1, 1)\n",
    "plt.plot(out1, 'b')\n",
    "plt.title('Flatted Activation Values ')\n",
    "plt.ylabel('Activation')\n",
    "plt.xlabel('Index')\n",
    "plt.subplot(2, 1, 2)\n",
    "plt.plot(out0, 'r')\n",
    "plt.xlabel('Index')\n",
    "plt.ylabel('Activation')\n",
    "plt.show()"
   ]
  },
  {
   "cell_type": "markdown",
   "metadata": {},
   "source": [
    "<!--\n",
    "## Change Log\n",
    "\n",
    "|  Date (YYYY-MM-DD) |  Version | Changed By  |  Change Description |\n",
    "|---|---|---|---|\n",
    "| 2020-09-23  | 2.0  | Srishti  |  Migrated Lab to Markdown and added to course repo in GitLab |\n",
    "\n",
    "\n",
    "\n",
    "<hr>\n",
    "-->\n",
    "\n",
    "## <h3 align=\"center\"> &#169; IBM Corporation. All rights reserved. <h3/>\n"
   ]
  }
 ],
 "metadata": {
  "kernelspec": {
   "display_name": "Python",
   "language": "python",
   "name": "conda-env-python-py"
  },
  "language_info": {
   "codemirror_mode": {
    "name": "ipython",
    "version": 3
   },
   "file_extension": ".py",
   "mimetype": "text/x-python",
   "name": "python",
   "nbconvert_exporter": "python",
   "pygments_lexer": "ipython3",
   "version": "3.7.12"
  },
  "prev_pub_hash": "ca37977d391a59f1fa2884c31403b72d67e02b6915b5c0d97a31f39cef1cb4e6"
 },
 "nbformat": 4,
 "nbformat_minor": 4
}
